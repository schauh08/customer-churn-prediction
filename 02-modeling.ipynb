{
 "cells": [
  {
   "cell_type": "code",
   "execution_count": 15,
   "id": "6ba867d1-2e14-43ea-93ba-bddb74d1bfd0",
   "metadata": {},
   "outputs": [
    {
     "ename": "AttributeError",
     "evalue": "'DataFrame' object has no attribute 'dtype'",
     "output_type": "error",
     "traceback": [
      "\u001b[31m---------------------------------------------------------------------------\u001b[39m",
      "\u001b[31mAttributeError\u001b[39m                            Traceback (most recent call last)",
      "\u001b[32m~\\AppData\\Local\\Temp\\ipykernel_18732\\1155978791.py\u001b[39m in \u001b[36m?\u001b[39m\u001b[34m()\u001b[39m\n\u001b[32m      9\u001b[39m \n\u001b[32m     10\u001b[39m df = loading_model_df()\n\u001b[32m     11\u001b[39m X_df = df.drop(columns=[\u001b[33m'customerID'\u001b[39m, \u001b[33m'churn_flag'\u001b[39m])\n\u001b[32m     12\u001b[39m y = df[\u001b[33m'churn_flag'\u001b[39m].values\n\u001b[32m---> \u001b[39m\u001b[32m13\u001b[39m X, feature_names = build_manual_pipeline(X_df)\n",
      "\u001b[32m~\\Documents\\Projects\\customer-churn-prediction\\src\\features\\pipeline.py\u001b[39m in \u001b[36m?\u001b[39m\u001b[34m(df)\u001b[39m\n\u001b[32m     18\u001b[39m \n\u001b[32m     19\u001b[39m     numeric_features = [\u001b[33m'tenure'\u001b[39m, \u001b[33m'MonthlyCharges'\u001b[39m, \u001b[33m'TotalCharges'\u001b[39m, \u001b[33m'avg_monthly_charge'\u001b[39m]\n\u001b[32m     20\u001b[39m     categorical_features = [\u001b[33m'InternetService'\u001b[39m,\u001b[33m'Contract'\u001b[39m, \u001b[33m'PaymentMethod'\u001b[39m, \u001b[33m'tenure_bucket'\u001b[39m, \u001b[33m'OnlineSecurity'\u001b[39m, \u001b[33m'OnlineBackup'\u001b[39m, \u001b[33m'DeviceProtection'\u001b[39m, \u001b[33m'TechSupport'\u001b[39m,           \u001b[33m'StreamingTV'\u001b[39m, \u001b[33m'StreamingMovies'\u001b[39m]\n\u001b[32m     21\u001b[39m \n\u001b[32m---> \u001b[39m\u001b[32m22\u001b[39m     print(df[numeric_features].dtypes)\n\u001b[32m     23\u001b[39m \n\u001b[32m     24\u001b[39m     \u001b[38;5;28;01mfor\u001b[39;00m col \u001b[38;5;28;01min\u001b[39;00m numeric_features:\n\u001b[32m     25\u001b[39m         bad = df[col].apply(\u001b[38;5;28;01mlambda\u001b[39;00m x: isinstance(x,str))\n",
      "\u001b[32m~\\Documents\\Projects\\customer-churn-prediction\\venv\\Lib\\site-packages\\pandas\\core\\generic.py\u001b[39m in \u001b[36m?\u001b[39m\u001b[34m(self, name)\u001b[39m\n\u001b[32m   6295\u001b[39m             \u001b[38;5;28;01mand\u001b[39;00m name \u001b[38;5;28;01mnot\u001b[39;00m \u001b[38;5;28;01min\u001b[39;00m self._accessors\n\u001b[32m   6296\u001b[39m             \u001b[38;5;28;01mand\u001b[39;00m self._info_axis._can_hold_identifiers_and_holds_name(name)\n\u001b[32m   6297\u001b[39m         ):\n\u001b[32m   6298\u001b[39m             \u001b[38;5;28;01mreturn\u001b[39;00m self[name]\n\u001b[32m-> \u001b[39m\u001b[32m6299\u001b[39m         \u001b[38;5;28;01mreturn\u001b[39;00m object.__getattribute__(self, name)\n",
      "\u001b[31mAttributeError\u001b[39m: 'DataFrame' object has no attribute 'dtype'"
     ]
    }
   ],
   "source": [
    "#Train LR To predict churn\n",
    "from src.features.pipeline import loading_model_df, build_manual_pipeline\n",
    "import pandas as pd\n",
    "from sklearn.linear_model import LogisticRegression\n",
    "from sklearn.metrics import roc_auc_score, precision_recall_curve, auc\n",
    "import matplotlib.pyplot as plt\n",
    "\n",
    "\n",
    "\n",
    "df = loading_model_df()\n",
    "X_df = df.drop(columns=['customerID', 'churn_flag'])\n",
    "y = df['churn_flag'].values\n",
    "X, feature_names = build_manual_pipeline(X_df)"
   ]
  },
  {
   "cell_type": "code",
   "execution_count": 10,
   "id": "734d5b87-30fd-438d-870f-91c38e3bc688",
   "metadata": {},
   "outputs": [
    {
     "ename": "NameError",
     "evalue": "name 'X_train' is not defined",
     "output_type": "error",
     "traceback": [
      "\u001b[31m---------------------------------------------------------------------------\u001b[39m",
      "\u001b[31mNameError\u001b[39m                                 Traceback (most recent call last)",
      "\u001b[36mCell\u001b[39m\u001b[36m \u001b[39m\u001b[32mIn[10]\u001b[39m\u001b[32m, line 2\u001b[39m\n\u001b[32m      1\u001b[39m model = LogisticRegression(max_iter=\u001b[32m1000\u001b[39m, class_weight=\u001b[33m'\u001b[39m\u001b[33mbalanced\u001b[39m\u001b[33m'\u001b[39m)\n\u001b[32m----> \u001b[39m\u001b[32m2\u001b[39m model.fit(\u001b[43mX_train\u001b[49m,y_train)\n",
      "\u001b[31mNameError\u001b[39m: name 'X_train' is not defined"
     ]
    }
   ],
   "source": [
    "model = LogisticRegression(max_iter=1000, class_weight='balanced')\n",
    "model.fit(X_train,y_train)"
   ]
  },
  {
   "cell_type": "code",
   "execution_count": null,
   "id": "681f76db-04cd-4308-9812-de71de52252e",
   "metadata": {},
   "outputs": [],
   "source": [
    "y_proba = model.predict_proba(X_test)[:,1]\n",
    "print(\"ROC-AUC\", roc_auc_score(y_test, y_proba))\n",
    "precision, recall, _ = precision_recall_curve(y_test,y_proba)"
   ]
  },
  {
   "cell_type": "code",
   "execution_count": null,
   "id": "90470b49-e844-40ca-982a-c89cb507e999",
   "metadata": {},
   "outputs": [],
   "source": [
    "coefs = pd.DataFrame({\n",
    "    'feature': feature_names\n",
    "    'coef': model.coef[0]\n",
    "}).sort_vales('coef', ascending=False)\n",
    "display(coefs.head(), coefs.tail(10))\n",
    "\n",
    "        "
   ]
  },
  {
   "cell_type": "code",
   "execution_count": null,
   "id": "911e02b0-69d6-4980-a504-9346f8cdfa03",
   "metadata": {},
   "outputs": [],
   "source": []
  }
 ],
 "metadata": {
  "kernelspec": {
   "display_name": "Python 3 (ipykernel)",
   "language": "python",
   "name": "python3"
  },
  "language_info": {
   "codemirror_mode": {
    "name": "ipython",
    "version": 3
   },
   "file_extension": ".py",
   "mimetype": "text/x-python",
   "name": "python",
   "nbconvert_exporter": "python",
   "pygments_lexer": "ipython3",
   "version": "3.11.9"
  }
 },
 "nbformat": 4,
 "nbformat_minor": 5
}
